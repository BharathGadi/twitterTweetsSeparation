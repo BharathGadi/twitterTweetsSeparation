{
  "nbformat": 4,
  "nbformat_minor": 0,
  "metadata": {
    "colab": {
      "name": "twitterSentiment.ipynb",
      "provenance": []
    },
    "kernelspec": {
      "name": "python3",
      "display_name": "Python 3"
    },
    "language_info": {
      "name": "python"
    }
  },
  "cells": [
    {
      "cell_type": "code",
      "execution_count": null,
      "metadata": {
        "id": "xMH53bKtdI56"
      },
      "outputs": [],
      "source": [
        "import pandas as pd\n",
        "import numpy as np\n",
        "import matplotlib.pyplot as plt\n",
        "import seaborn as sns\n",
        "import re\n",
        "import string\n",
        "import nltk\n",
        "import warnings\n",
        "%matplotlib inline\n",
        "\n",
        "warnings.filterwarnings('ignore')\n",
        "df = pd.read_csv('Twitter Sentiments.csv')\n",
        "df.head()\n",
        "# datatype info\n",
        "df.info()\n",
        "# removes pattern in the input text\n",
        "def remove_pattern(input_txt, pattern):\n",
        "    r = re.findall(pattern, input_txt)\n",
        "    for word in r:\n",
        "        input_txt = re.sub(word, \"\", input_txt)\n",
        "    return input_txt\n",
        "# remove twitter handles (@user)\n",
        "df['clean_tweet'] = np.vectorize(remove_pattern)(df['tweet'], \"@[\\w]*\")\n",
        "# remove special characters, numbers and punctuations\n",
        "df['clean_tweet'] = df['clean_tweet'].str.replace(\"[^a-zA-Z#]\", \" \")\n",
        "df.head()\n",
        "# remove short words\n",
        "df['clean_tweet'] = df['clean_tweet'].apply(lambda x: \" \".join([w for w in x.split() if len(w)>3]))\n",
        "df.head()\n",
        "# individual words considered as tokens\n",
        "tokenized_tweet = df['clean_tweet'].apply(lambda x: x.split())\n",
        "tokenized_tweet.head()\n",
        "# stem the words\n",
        "from nltk.stem.porter import PorterStemmer\n",
        "stemmer = PorterStemmer()\n",
        "\n",
        "tokenized_tweet = tokenized_tweet.apply(lambda sentence: [stemmer.stem(word) for word in sentence])\n",
        "tokenized_tweet.head()\n",
        "# combine words into single sentence\n",
        "for i in range(len(tokenized_tweet)):\n",
        "    tokenized_tweet[i] = \" \".join(tokenized_tweet[i])\n",
        "    \n",
        "df['clean_tweet'] = tokenized_tweet\n",
        "df.head()\n",
        "# visualize the frequent words\n",
        "all_words = \" \".join([sentence for sentence in df['clean_tweet']])\n",
        "\n",
        "from wordcloud import WordCloud\n",
        "wordcloud = WordCloud(width=800, height=500, random_state=42, max_font_size=100).generate(all_words)\n",
        "\n",
        "# plot the graph\n",
        "plt.figure(figsize=(15,8))\n",
        "plt.imshow(wordcloud, interpolation='bilinear')\n",
        "plt.axis('off')\n",
        "plt.show()\n",
        "# frequent words visualization for +ve\n",
        "all_words = \" \".join([sentence for sentence in df['clean_tweet'][df['label']==0]])\n",
        "\n",
        "wordcloud = WordCloud(width=800, height=500, random_state=42, max_font_size=100).generate(all_words)\n",
        "\n",
        "# plot the graph\n",
        "plt.figure(figsize=(15,8))\n",
        "plt.imshow(wordcloud, interpolation='bilinear')\n",
        "plt.axis('off')\n",
        "plt.show()\n",
        "# frequent words visualization for -ve\n",
        "all_words = \" \".join([sentence for sentence in df['clean_tweet'][df['label']==1]])\n",
        "\n",
        "wordcloud = WordCloud(width=800, height=500, random_state=42, max_font_size=100).generate(all_words)\n",
        "\n",
        "# plot the graph\n",
        "plt.figure(figsize=(15,8))\n",
        "plt.imshow(wordcloud, interpolation='bilinear')\n",
        "plt.axis('off')\n",
        "plt.show()\n",
        "# extract the hashtag\n",
        "def hashtag_extract(tweets):\n",
        "    hashtags = []\n",
        "    # loop words in the tweet\n",
        "    for tweet in tweets:\n",
        "        ht = re.findall(r\"#(\\w+)\", tweet)\n",
        "        hashtags.append(ht)\n",
        "    return hashtags  \n",
        "# extract hashtags from non-racist/sexist tweets\n",
        "ht_positive = hashtag_extract(df['clean_tweet'][df['label']==0])\n",
        "\n",
        "# extract hashtags from racist/sexist tweets\n",
        "ht_negative = hashtag_extract(df['clean_tweet'][df['label']==1])"
      ]
    },
    {
      "cell_type": "code",
      "source": [
        "import pandas as pd\n",
        "import numpy as np\n",
        "import matplotlib.pyplot as plt\n",
        "import seaborn as sns\n",
        "import re\n",
        "import string\n",
        "import nltk\n",
        "import warnings\n",
        "%matplotlib inline\n",
        "\n",
        "warnings.filterwarnings('ignore')"
      ],
      "metadata": {
        "id": "mwib-jfndpSb"
      },
      "execution_count": null,
      "outputs": []
    },
    {
      "cell_type": "code",
      "source": [
        "df = pd.read_csv('Twitter Sentiments.csv')\n",
        "df.head()"
      ],
      "metadata": {
        "id": "bkKj0klNdtFr"
      },
      "execution_count": null,
      "outputs": []
    },
    {
      "cell_type": "code",
      "source": [
        "# removes pattern in the input text\n",
        "def remove_pattern(input_txt, pattern):\n",
        "    r = re.findall(pattern, input_txt)\n",
        "    for word in r:\n",
        "        input_txt = re.sub(word, \"\", input_txt)\n",
        "    return input_txt"
      ],
      "metadata": {
        "id": "yj6oo5a2dwJW"
      },
      "execution_count": null,
      "outputs": []
    },
    {
      "cell_type": "code",
      "source": [
        "# remove twitter handles (@user)\n",
        "df['clean_tweet'] = np.vectorize(remove_pattern)(df['tweet'], \"@[\\w]*\")"
      ],
      "metadata": {
        "id": "Ulv2FXKPduGW"
      },
      "execution_count": null,
      "outputs": []
    },
    {
      "cell_type": "code",
      "source": [
        "# remove special characters, numbers and punctuations\n",
        "df['clean_tweet'] = df['clean_tweet'].str.replace(\"[^a-zA-Z#]\", \" \")\n",
        "df.head()"
      ],
      "metadata": {
        "id": "lX1vrGLyd0xt"
      },
      "execution_count": null,
      "outputs": []
    },
    {
      "cell_type": "code",
      "source": [
        "# remove short words\n",
        "df['clean_tweet'] = df['clean_tweet'].apply(lambda x: \" \".join([w for w in x.split() if len(w)>3]))\n",
        "df.head()"
      ],
      "metadata": {
        "id": "sG8cnVV3d2Xt"
      },
      "execution_count": null,
      "outputs": []
    },
    {
      "cell_type": "code",
      "source": [
        "# individual words considered as tokens\n",
        "tokenized_tweet = df['clean_tweet'].apply(lambda x: x.split())\n",
        "tokenized_tweet.head()"
      ],
      "metadata": {
        "id": "grpsUP5Sd2ae"
      },
      "execution_count": null,
      "outputs": []
    },
    {
      "cell_type": "code",
      "source": [
        "# stem the words\n",
        "from nltk.stem.porter import PorterStemmer\n",
        "stemmer = PorterStemmer()\n",
        "\n",
        "tokenized_tweet = tokenized_tweet.apply(lambda sentence: [stemmer.stem(word) for word in sentence])\n",
        "tokenized_tweet.head()"
      ],
      "metadata": {
        "id": "wl8R78sqd2cK"
      },
      "execution_count": null,
      "outputs": []
    },
    {
      "cell_type": "code",
      "source": [
        "# combine words into single sentence\n",
        "for i in range(len(tokenized_tweet)):\n",
        "    tokenized_tweet[i] = \" \".join(tokenized_tweet[i])\n",
        "    \n",
        "df['clean_tweet'] = tokenized_tweet\n",
        "df.head()"
      ],
      "metadata": {
        "id": "EB7A3ZnNd2fv"
      },
      "execution_count": null,
      "outputs": []
    },
    {
      "cell_type": "code",
      "source": [
        "# visualize the frequent words\n",
        "all_words = \" \".join([sentence for sentence in df['clean_tweet']])\n",
        "\n",
        "from wordcloud import WordCloud\n",
        "wordcloud = WordCloud(width=800, height=500, random_state=42, max_font_size=100).generate(all_words)\n",
        "\n",
        "# plot the graph\n",
        "plt.figure(figsize=(15,8))\n",
        "plt.imshow(wordcloud, interpolation='bilinear')\n",
        "plt.axis('off')\n",
        "plt.show()"
      ],
      "metadata": {
        "id": "AanLZZXpd2kP"
      },
      "execution_count": null,
      "outputs": []
    },
    {
      "cell_type": "code",
      "source": [
        "# frequent words visualization for +ve\n",
        "all_words = \" \".join([sentence for sentence in df['clean_tweet'][df['label']==0]])\n",
        "\n",
        "wordcloud = WordCloud(width=800, height=500, random_state=42, max_font_size=100).generate(all_words)\n",
        "\n",
        "# plot the graph\n",
        "plt.figure(figsize=(15,8))\n",
        "plt.imshow(wordcloud, interpolation='bilinear')\n",
        "plt.axis('off')\n",
        "plt.show()"
      ],
      "metadata": {
        "id": "TJg4SOANd2n1"
      },
      "execution_count": null,
      "outputs": []
    },
    {
      "cell_type": "code",
      "source": [
        "# frequent words visualization for -ve\n",
        "all_words = \" \".join([sentence for sentence in df['clean_tweet'][df['label']==1]])\n",
        "\n",
        "wordcloud = WordCloud(width=800, height=500, random_state=42, max_font_size=100).generate(all_words)\n",
        "\n",
        "# plot the graph\n",
        "plt.figure(figsize=(15,8))\n",
        "plt.imshow(wordcloud, interpolation='bilinear')\n",
        "plt.axis('off')\n",
        "plt.show()"
      ],
      "metadata": {
        "id": "TVYGZuwXeDE_"
      },
      "execution_count": null,
      "outputs": []
    },
    {
      "cell_type": "code",
      "source": [
        "# extract the hashtag\n",
        "def hashtag_extract(tweets):\n",
        "    hashtags = []\n",
        "    # loop words in the tweet\n",
        "    for tweet in tweets:\n",
        "        ht = re.findall(r\"#(\\w+)\", tweet)\n",
        "        hashtags.append(ht)\n",
        "    return hashtags    "
      ],
      "metadata": {
        "id": "f-aK_ssCeDT0"
      },
      "execution_count": null,
      "outputs": []
    },
    {
      "cell_type": "code",
      "source": [
        "# extract hashtags from non-racist/sexist tweets\n",
        "ht_positive = hashtag_extract(df['clean_tweet'][df['label']==0])\n",
        "\n",
        "# extract hashtags from racist/sexist tweets\n",
        "ht_negative = hashtag_extract(df['clean_tweet'][df['label']==1])"
      ],
      "metadata": {
        "id": "_FYKiBqCeGMy"
      },
      "execution_count": null,
      "outputs": []
    },
    {
      "cell_type": "code",
      "source": [
        "# unnest list\n",
        "ht_positive = sum(ht_positive, [])\n",
        "ht_negative = sum(ht_negative, [])\n"
      ],
      "metadata": {
        "id": "gbRekSJgeGPo"
      },
      "execution_count": null,
      "outputs": []
    },
    {
      "cell_type": "code",
      "source": [
        "freq = nltk.FreqDist(ht_positive)\n",
        "d = pd.DataFrame({'Hashtag': list(freq.keys()),\n",
        "                 'Count': list(freq.values())})\n",
        "d.head()"
      ],
      "metadata": {
        "id": "2hiPQOLOePlu"
      },
      "execution_count": null,
      "outputs": []
    },
    {
      "cell_type": "code",
      "source": [
        "# select top 10 hashtags\n",
        "d = d.nlargest(columns='Count', n=10)\n",
        "plt.figure(figsize=(15,9))\n",
        "sns.barplot(data=d, x='Hashtag', y='Count')\n",
        "plt.show()"
      ],
      "metadata": {
        "id": "wKRexEtqePoG"
      },
      "execution_count": null,
      "outputs": []
    },
    {
      "cell_type": "code",
      "source": [
        "\n",
        "freq = nltk.FreqDist(ht_negative)\n",
        "d = pd.DataFrame({'Hashtag': list(freq.keys()),\n",
        "                 'Count': list(freq.values())})\n",
        "d.head()"
      ],
      "metadata": {
        "id": "t1DMJGrAeGUo"
      },
      "execution_count": null,
      "outputs": []
    },
    {
      "cell_type": "code",
      "source": [
        "# select top 10 hashtags\n",
        "d = d.nlargest(columns='Count', n=10)\n",
        "plt.figure(figsize=(15,9))\n",
        "sns.barplot(data=d, x='Hashtag', y='Count')\n",
        "plt.show()"
      ],
      "metadata": {
        "id": "-osyhg6oeWnY"
      },
      "execution_count": null,
      "outputs": []
    },
    {
      "cell_type": "code",
      "source": [
        "# feature extraction\n",
        "from sklearn.feature_extraction.text import CountVectorizer\n",
        "bow_vectorizer = CountVectorizer(max_df=0.90, min_df=2, max_features=1000, stop_words='english')\n",
        "bow = bow_vectorizer.fit_transform(df['clean_tweet'])"
      ],
      "metadata": {
        "id": "M9KhaSrqeYxL"
      },
      "execution_count": null,
      "outputs": []
    },
    {
      "cell_type": "code",
      "source": [
        "\n",
        "from sklearn.model_selection import train_test_split\n",
        "x_train, x_test, y_train, y_test = train_test_split(bow, df['label'], random_state=42, test_size=0.25)"
      ],
      "metadata": {
        "id": "TUvWt-6lebap"
      },
      "execution_count": null,
      "outputs": []
    },
    {
      "cell_type": "code",
      "source": [
        "from sklearn.linear_model import LogisticRegression\n",
        "from sklearn.metrics import f1_score, accuracy_score\n",
        "# training\n",
        "model = LogisticRegression()\n",
        "model.fit(x_train, y_train)\n",
        "# testing\n",
        "pred = model.predict(x_test)\n",
        "f1_score(y_test, pred)"
      ],
      "metadata": {
        "id": "NYnre64XeY5w"
      },
      "execution_count": null,
      "outputs": []
    },
    {
      "cell_type": "code",
      "source": [
        "accuracy_score(y_test,pred)"
      ],
      "metadata": {
        "id": "q6ga5Y0qeh2W"
      },
      "execution_count": null,
      "outputs": []
    },
    {
      "cell_type": "code",
      "source": [
        "pred_prob[0][1] >= 0.3"
      ],
      "metadata": {
        "id": "UQZqe3bBejQL"
      },
      "execution_count": null,
      "outputs": []
    }
  ]
}